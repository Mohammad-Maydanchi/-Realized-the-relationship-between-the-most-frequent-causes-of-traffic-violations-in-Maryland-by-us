{
 "cells": [
  {
   "cell_type": "markdown",
   "metadata": {},
   "source": [
    "# 4-Do owners of new cars care about rules more than owner of old cars?"
   ]
  },
  {
   "cell_type": "markdown",
   "metadata": {},
   "source": [
    "## Assumption:\n",
    "Here, when we say old car it means a car which is produced 10 years before its stop."
   ]
  },
  {
   "cell_type": "code",
   "execution_count": 8,
   "metadata": {},
   "outputs": [],
   "source": [
    "%matplotlib inline\n",
    "import numpy as np\n",
    "import pandas as pd\n",
    "import matplotlib.pyplot as plt\n",
    "import datetime\n",
    "\n",
    "\n",
    "def show(the_array, show_data = 0):\n",
    "    print(\"  Dimension: {:}\".format(the_array.ndim))\n",
    "    print(\"       Size: {:}\".format(the_array.size))\n",
    "    print(\"      Shape: {:}\".format(the_array.shape))    \n",
    "    #print(\"  Data Type: {:}\".format(the_array.dtype))    \n",
    "    #print(\"  Item Size: {:}\".format(the_array.itemsize))\n",
    "    #print(\"Data Buffer: {:}\".format(the_array.data))\n",
    "    if show_data:\n",
    "        print(the_array)"
   ]
  },
  {
   "cell_type": "code",
   "execution_count": 9,
   "metadata": {},
   "outputs": [],
   "source": [
    "df = pd.read_csv(\"E:/Education/Auburn/2018-Fall/Info-Jeff/project/Traffic_Violations.csv\")\n"
   ]
  },
  {
   "cell_type": "code",
   "execution_count": 10,
   "metadata": {},
   "outputs": [
    {
     "name": "stdout",
     "output_type": "stream",
     "text": [
      "  Dimension: 2\n",
      "       Size: 36700125\n",
      "      Shape: (1048575, 35)\n"
     ]
    }
   ],
   "source": [
    "show(df)"
   ]
  },
  {
   "cell_type": "code",
   "execution_count": 12,
   "metadata": {},
   "outputs": [],
   "source": [
    "df1=df[['Date','TimeOfStop','Description','State','Year','Make','Violation Type','Race','Gender','DriverState','DLState','ArrestType']]"
   ]
  },
  {
   "cell_type": "code",
   "execution_count": 13,
   "metadata": {},
   "outputs": [
    {
     "data": {
      "text/html": [
       "<div>\n",
       "<style scoped>\n",
       "    .dataframe tbody tr th:only-of-type {\n",
       "        vertical-align: middle;\n",
       "    }\n",
       "\n",
       "    .dataframe tbody tr th {\n",
       "        vertical-align: top;\n",
       "    }\n",
       "\n",
       "    .dataframe thead th {\n",
       "        text-align: right;\n",
       "    }\n",
       "</style>\n",
       "<table border=\"1\" class=\"dataframe\">\n",
       "  <thead>\n",
       "    <tr style=\"text-align: right;\">\n",
       "      <th></th>\n",
       "      <th>Date</th>\n",
       "      <th>Year</th>\n",
       "    </tr>\n",
       "  </thead>\n",
       "  <tbody>\n",
       "    <tr>\n",
       "      <th>0</th>\n",
       "      <td>9/14/2016</td>\n",
       "      <td>2005.0</td>\n",
       "    </tr>\n",
       "    <tr>\n",
       "      <th>1</th>\n",
       "      <td>9/23/2015</td>\n",
       "      <td>2010.0</td>\n",
       "    </tr>\n",
       "    <tr>\n",
       "      <th>2</th>\n",
       "      <td>4/17/2015</td>\n",
       "      <td>2013.0</td>\n",
       "    </tr>\n",
       "    <tr>\n",
       "      <th>3</th>\n",
       "      <td>4/17/2015</td>\n",
       "      <td>2013.0</td>\n",
       "    </tr>\n",
       "    <tr>\n",
       "      <th>4</th>\n",
       "      <td>4/17/2015</td>\n",
       "      <td>2013.0</td>\n",
       "    </tr>\n",
       "  </tbody>\n",
       "</table>\n",
       "</div>"
      ],
      "text/plain": [
       "        Date    Year\n",
       "0  9/14/2016  2005.0\n",
       "1  9/23/2015  2010.0\n",
       "2  4/17/2015  2013.0\n",
       "3  4/17/2015  2013.0\n",
       "4  4/17/2015  2013.0"
      ]
     },
     "execution_count": 13,
     "metadata": {},
     "output_type": "execute_result"
    }
   ],
   "source": [
    "df2=df1[['Date','Year']]\n",
    "df2.head(5)\n"
   ]
  },
  {
   "cell_type": "code",
   "execution_count": 15,
   "metadata": {},
   "outputs": [],
   "source": [
    "df['Date']=pd.to_datetime(df2.Date)"
   ]
  },
  {
   "cell_type": "code",
   "execution_count": 16,
   "metadata": {},
   "outputs": [],
   "source": [
    "df2=df[['Date','Year']]"
   ]
  },
  {
   "cell_type": "code",
   "execution_count": 17,
   "metadata": {},
   "outputs": [
    {
     "data": {
      "text/plain": [
       "Date    datetime64[ns]\n",
       "Year           float64\n",
       "dtype: object"
      ]
     },
     "execution_count": 17,
     "metadata": {},
     "output_type": "execute_result"
    }
   ],
   "source": [
    "df2.dtypes\n"
   ]
  },
  {
   "cell_type": "code",
   "execution_count": 18,
   "metadata": {},
   "outputs": [
    {
     "data": {
      "text/plain": [
       "0          2016\n",
       "1          2015\n",
       "2          2015\n",
       "3          2015\n",
       "4          2015\n",
       "5          2015\n",
       "6          2018\n",
       "7          2018\n",
       "8          2018\n",
       "9          2018\n",
       "10         2018\n",
       "11         2018\n",
       "12         2018\n",
       "13         2018\n",
       "14         2018\n",
       "15         2018\n",
       "16         2018\n",
       "17         2018\n",
       "18         2018\n",
       "19         2018\n",
       "20         2018\n",
       "21         2018\n",
       "22         2018\n",
       "23         2018\n",
       "24         2018\n",
       "25         2018\n",
       "26         2018\n",
       "27         2018\n",
       "28         2018\n",
       "29         2018\n",
       "           ... \n",
       "1048545    2012\n",
       "1048546    2012\n",
       "1048547    2012\n",
       "1048548    2012\n",
       "1048549    2012\n",
       "1048550    2012\n",
       "1048551    2012\n",
       "1048552    2012\n",
       "1048553    2012\n",
       "1048554    2012\n",
       "1048555    2012\n",
       "1048556    2012\n",
       "1048557    2012\n",
       "1048558    2012\n",
       "1048559    2012\n",
       "1048560    2012\n",
       "1048561    2012\n",
       "1048562    2012\n",
       "1048563    2012\n",
       "1048564    2012\n",
       "1048565    2012\n",
       "1048566    2012\n",
       "1048567    2012\n",
       "1048568    2012\n",
       "1048569    2012\n",
       "1048570    2012\n",
       "1048571    2012\n",
       "1048572    2012\n",
       "1048573    2012\n",
       "1048574    2012\n",
       "Name: Date, Length: 1048575, dtype: int64"
      ]
     },
     "execution_count": 18,
     "metadata": {},
     "output_type": "execute_result"
    }
   ],
   "source": [
    "df2.Date.dt.year"
   ]
  },
  {
   "cell_type": "code",
   "execution_count": 19,
   "metadata": {},
   "outputs": [
    {
     "data": {
      "text/plain": [
       "0            11.0\n",
       "1             5.0\n",
       "2             2.0\n",
       "3             2.0\n",
       "4             2.0\n",
       "5             2.0\n",
       "6             6.0\n",
       "7             1.0\n",
       "8             3.0\n",
       "9            12.0\n",
       "10            8.0\n",
       "11            5.0\n",
       "12            5.0\n",
       "13            5.0\n",
       "14            1.0\n",
       "15            1.0\n",
       "16            4.0\n",
       "17            4.0\n",
       "18            3.0\n",
       "19            3.0\n",
       "20            3.0\n",
       "21           12.0\n",
       "22         2018.0\n",
       "23            3.0\n",
       "24            3.0\n",
       "25            5.0\n",
       "26            5.0\n",
       "27            4.0\n",
       "28            4.0\n",
       "29            4.0\n",
       "            ...  \n",
       "1048545       NaN\n",
       "1048546       NaN\n",
       "1048547       NaN\n",
       "1048548      12.0\n",
       "1048549      12.0\n",
       "1048550      12.0\n",
       "1048551      12.0\n",
       "1048552      12.0\n",
       "1048553      12.0\n",
       "1048554       NaN\n",
       "1048555       NaN\n",
       "1048556       7.0\n",
       "1048557    2012.0\n",
       "1048558    2012.0\n",
       "1048559      14.0\n",
       "1048560      14.0\n",
       "1048561       3.0\n",
       "1048562       3.0\n",
       "1048563      16.0\n",
       "1048564      16.0\n",
       "1048565      16.0\n",
       "1048566      16.0\n",
       "1048567       2.0\n",
       "1048568       6.0\n",
       "1048569   -7987.0\n",
       "1048570      12.0\n",
       "1048571      12.0\n",
       "1048572      12.0\n",
       "1048573      12.0\n",
       "1048574      12.0\n",
       "Length: 1048575, dtype: float64"
      ]
     },
     "execution_count": 19,
     "metadata": {},
     "output_type": "execute_result"
    }
   ],
   "source": [
    "df3=df2.Date.dt.year-df2.Year\n",
    "df3\n",
    "\n"
   ]
  },
  {
   "cell_type": "code",
   "execution_count": 20,
   "metadata": {},
   "outputs": [
    {
     "data": {
      "text/plain": [
       "pandas.core.series.Series"
      ]
     },
     "execution_count": 20,
     "metadata": {},
     "output_type": "execute_result"
    }
   ],
   "source": [
    "type(df3)"
   ]
  },
  {
   "cell_type": "code",
   "execution_count": 21,
   "metadata": {},
   "outputs": [
    {
     "data": {
      "text/plain": [
       "0.6094930305863292"
      ]
     },
     "execution_count": 21,
     "metadata": {},
     "output_type": "execute_result"
    }
   ],
   "source": [
    "### precent of the cars which are new\n",
    "df4=df3[df3.loc[0:]<=10].count()/df3.count()\n",
    "df4"
   ]
  },
  {
   "cell_type": "code",
   "execution_count": 22,
   "metadata": {},
   "outputs": [
    {
     "data": {
      "text/plain": [
       "0.39050696941367086"
      ]
     },
     "execution_count": 22,
     "metadata": {},
     "output_type": "execute_result"
    }
   ],
   "source": [
    "###precent of the cars which are old\n",
    "df5=df3[df3.iloc[0:]>10].count()/df3.count()\n",
    "df5"
   ]
  },
  {
   "cell_type": "code",
   "execution_count": null,
   "metadata": {},
   "outputs": [],
   "source": []
  },
  {
   "cell_type": "code",
   "execution_count": 23,
   "metadata": {},
   "outputs": [
    {
     "data": {
      "image/png": "[encoded data removed]",
      "text/plain": [
       "<Figure size 432x288 with 1 Axes>"
      ]
     },
     "metadata": {},
     "output_type": "display_data"
    }
   ],
   "source": [
    "import matplotlib.pyplot as plt\n",
    "\n",
    "# Pie chart, where the slices will be ordered and plotted counter-clockwise:\n",
    "labels = 'New Cars', 'Old Cars'\n",
    "sizes = [df4, df5]\n",
    "explode = (0, 0.1)  \n",
    "\n",
    "fig1, ax1 = plt.subplots()\n",
    "ax1.pie(sizes, explode=explode, labels=labels, autopct='%1.1f%%',\n",
    "        shadow=True, startangle=90)\n",
    "ax1.axis('equal')  # Equal aspect ratio ensures that pie is drawn as a circle\n",
    "ax1.set_title('Old cars owners stops vs new cars owners stops')\n",
    "\n",
    "plt.show()"
   ]
  },
  {
   "cell_type": "markdown",
   "metadata": {},
   "source": [
    "# Conclusion\n",
    "\n",
    "Based on results we can draw conclusion that 60.9% of violated cars are new and 39.1% of them are old. "
   ]
  },
  {
   "cell_type": "code",
   "execution_count": null,
   "metadata": {},
   "outputs": [],
   "source": []
  }
 ],
 "metadata": {
  "kernelspec": {
   "display_name": "Python 3",
   "language": "python",
   "name": "python3"
  },
  "language_info": {
   "codemirror_mode": {
    "name": "ipython",
    "version": 3
   },
   "file_extension": ".py",
   "mimetype": "text/x-python",
   "name": "python",
   "nbconvert_exporter": "python",
   "pygments_lexer": "ipython3",
   "version": "3.7.0"
  }
 },
 "nbformat": 4,
 "nbformat_minor": 2
}
